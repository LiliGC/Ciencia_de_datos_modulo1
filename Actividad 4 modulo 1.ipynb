{
  "cells": [
    {
      "attachments": {},
      "cell_type": "markdown",
      "metadata": {
        "id": "XOz-zU77tH7F"
      },
      "source": [
        "# **Actividad 4:** Construir un programa en Python utilizando el paradigma de Orientación a Objetos para resolver un problema.\n",
        "\n"
      ]
    },
    {
      "attachments": {},
      "cell_type": "markdown",
      "metadata": {
        "id": "TCBTc6HCtgsH"
      },
      "source": [
        "## 1. Cree una clase llamada Individuo. Sus atributos son: PrimerNombre, Edad y RUT. Construye los siguientes métodos para la clase:\n",
        "\n",
        "*   Un constructor, donde los datos pueden estar vacíos.\n",
        "*   Los setters y getters para cada uno de los atributos. Hay que validar las entradas de datos.\n",
        "*   revelar(): Revela la información de la persona.\n",
        "*   Adulto(): Entrega un valor lógico sí es o no adulto (mayor de 18 años).\n"
      ]
    },
    {
      "cell_type": "code",
      "execution_count": 3,
      "metadata": {
        "id": "ltqrFXh7uwNw"
      },
      "outputs": [],
      "source": [
        "class Individuo:\n",
        "    \"\"\"\n",
        "    Clase que representa a un individuo con atributos de nombre, edad y RUT.\n",
        "    \"\"\"\n",
        "\n",
        "    def __init__(self, primer_nombre=\"\", edad=0, rut=\"\"):\n",
        "        \"\"\"\n",
        "        Constructor de la clase Individuo.\n",
        "\n",
        "        Args:\n",
        "            PrimerNombre (str, opcional): Primer nombre del individuo. Default es una cadena vacía.\n",
        "            Edad (int, opcional): Edad del individuo. Default es 0.\n",
        "            RUT (str, opcional): RUT del individuo. Default es una cadena vacía.\n",
        "        \"\"\"\n",
        "        self._primer_nombre = primer_nombre\n",
        "        self._edad = edad\n",
        "        self._rut = rut\n",
        "\n",
        "    # Setters\n",
        "    def set_primer_nombre(self, nombre):\n",
        "        \"\"\"Setter del primer nombre del individuo.\"\"\"\n",
        "        self._PrimerNombre = nombre\n",
        "\n",
        "    def set_edad(self, edad):\n",
        "        \"\"\"Setter de la edad del individuo.\"\"\"\n",
        "        if edad >= 0:\n",
        "            self._edad = edad\n",
        "        else:\n",
        "            print(\"La edad no puede ser negativa\")\n",
        "\n",
        "    def set_rut(self, rut):\n",
        "        \"\"\"Setter del RUT del individuo.\"\"\"\n",
        "        self._rut = rut\n",
        "\n",
        "    # Getters\n",
        "    def get_primer_nombre(self):\n",
        "        \"\"\"Getter del primer nombre del individuo.\"\"\"\n",
        "        return self._primer_nombre\n",
        "\n",
        "    def get_edad(self):\n",
        "        \"\"\"Getter de la edad del individuo.\"\"\"\n",
        "        return self._edad\n",
        "\n",
        "    def get_rut(self):\n",
        "        \"\"\"Getter del RUT del individuo.\"\"\"\n",
        "        return self._rut\n",
        "\n",
        "    def revelar(self):\n",
        "        \"\"\"Método que imprime la información del individuo.\"\"\"\n",
        "        print(f\"Nombre: {self._primer_nombre}\")\n",
        "        print(f\"Edad: {self._edad}\")\n",
        "        print(f\"RUT: {self._rut}\")\n",
        "\n",
        "    def es_adulto(self):\n",
        "        \"\"\"Método que devuelve True si el individuo es mayor de 18 años, False en caso contrario.\"\"\"\n",
        "        return self._edad >= 18\n"
      ]
    },
    {
      "cell_type": "code",
      "execution_count": 4,
      "metadata": {
        "colab": {
          "base_uri": "https://localhost:8080/"
        },
        "id": "DSmMjYFWu4Mf",
        "outputId": "18481bb7-c020-44d6-98c5-1c5b677a14da"
      },
      "outputs": [
        {
          "name": "stdout",
          "output_type": "stream",
          "text": [
            "Tomás González\n",
            "47\n",
            "12345678-9\n",
            "\n",
            "Nombre: Tomás González\n",
            "Edad: 47\n",
            "RUT: 12345678-9\n",
            "\n",
            " La persona Tomás González es mayor de edad: True \n",
            "\n",
            "Nombre: Tomás González\n",
            "Edad: 17\n",
            "RUT: 20145698-1\n",
            "\n",
            " La persona Tomás González es mayor de edad: False \n",
            "\n"
          ]
        }
      ],
      "source": [
        "# Crear una instancia de Individuo\n",
        "persona1 = Individuo(\"Tomás González\",47, \"12345678-9\")\n",
        "\n",
        "# Acceder a los atributos utilizando los getters\n",
        "print(persona1.get_primer_nombre())  # Tomás González\n",
        "print(persona1.get_edad())  # 47\n",
        "print(f'{persona1.get_rut()}\\n')  # 12445678-9\n",
        "\n",
        "# Utilizar el método revelar() para ver la información del individuo\n",
        "persona1.revelar()\n",
        "\n",
        "# Utilizar el método es_adulto()\n",
        "print(f'\\n La persona {persona1.get_primer_nombre()} es mayor de edad: {persona1.es_adulto()} \\n')  # Me indica con True si es mayor de edad y False si es menor de edad\n",
        "\n",
        "# Modificar los atributos utilizando los setters\n",
        "persona1.set_primer_nombre(\"Arturo Prat\")\n",
        "persona1.set_edad(17)  \n",
        "persona1.set_rut(\"20145698-1\")\n",
        "\n",
        "# Imprimir la información actualizada del individuo\n",
        "persona1.revelar()\n",
        "\n",
        "# Utilizar el método es_adulto() con la información actualizada\n",
        "print(f'\\n La persona {persona1.get_primer_nombre()} es mayor de edad: {persona1.es_adulto()} \\n')  # Me indica con True si es mayor de edad y False si es menor de edad"
      ]
    },
    {
      "attachments": {},
      "cell_type": "markdown",
      "metadata": {
        "id": "ka6ZfbcOvIZ6"
      },
      "source": [
        "## 2. Cree una clase que nombrará Cliente con los siguientes atributos: persona (puede ser el titular de una cuenta) y monto (puede tener decimales). El atributo persona será obligatorio y el monto es opcional. Debe considerar lo siguiente para la clase pedida:\n",
        "\n",
        "\n",
        "*   Un constructor, donde los datos pueden estar vacíos.\n",
        "*   Los setters y getters para cada uno de los atributos. El atributo no se puede modificar directamente, sólo ingresando o retirando dinero.\n",
        "*   revelar(): Revela la información del Cliente.\n",
        "*   ingresar(monto): Registra el monto del cliente para una cuenta, si el número que ingresa es negativo, no hará nada.\n",
        "*   retirar(monto): Registra un posible retiro de la cuenta del cliente. El cliente puede tener un saldo negativo."
      ]
    },
    {
      "cell_type": "code",
      "execution_count": 5,
      "metadata": {
        "id": "PfFulEX9vx6S"
      },
      "outputs": [],
      "source": [
        "class Cliente:\n",
        "    \"\"\"\n",
        "    Clase que representa a un cliente con atributos de persona (titular de cuenta) y monto.\n",
        "    \"\"\"\n",
        "\n",
        "    def __init__(self, persona, monto=0.0):\n",
        "        \"\"\"\n",
        "        Constructor de la clase Cliente.\n",
        "\n",
        "        Args:\n",
        "            persona (str): Persona titular de la cuenta del cliente.\n",
        "            monto (float, opcional): Monto inicial en la cuenta del cliente. Default es 0.0.\n",
        "        \"\"\"\n",
        "        self._persona = persona\n",
        "        self._monto = monto\n",
        "\n",
        "    # Setters\n",
        "    def ingresar(self, monto):\n",
        "        \"\"\"\n",
        "        Registra un ingreso en la cuenta del cliente.\n",
        "\n",
        "        Args:\n",
        "            monto (float): Monto a ingresar en la cuenta. Si es negativo, no se realiza la transacción.\n",
        "        \"\"\"\n",
        "        if monto >= 0:\n",
        "            self._monto += monto\n",
        "\n",
        "    def retirar(self, monto):\n",
        "        \"\"\"\n",
        "        Registra un retiro en la cuenta del cliente.\n",
        "\n",
        "        Args:\n",
        "            monto (float): Monto a retirar de la cuenta. El cliente puede tener saldo negativo.\n",
        "        \"\"\"\n",
        "        self._monto -= monto\n",
        "\n",
        "    # Getters\n",
        "    def get_persona(self):\n",
        "        \"\"\"Getter de la persona titular de la cuenta del cliente.\"\"\"\n",
        "        return self._persona\n",
        "\n",
        "    def get_monto(self):\n",
        "        \"\"\"Getter del monto en la cuenta del cliente.\"\"\"\n",
        "        return self._monto\n",
        "\n",
        "    def revelar(self):\n",
        "        \"\"\"Método que imprime la información del cliente.\"\"\"\n",
        "        print(f\"Persona: {self._persona}\")\n",
        "        print(f\"Monto: ${self._monto:.2f}\") #el formato del monto de la cuenta lo dejo con dos decimales\n"
      ]
    },
    {
      "cell_type": "code",
      "execution_count": 6,
      "metadata": {
        "colab": {
          "base_uri": "https://localhost:8080/"
        },
        "id": "tPp4ip6qwhib",
        "outputId": "9480a75d-0aca-49c5-966a-a7d0ef47d5d0"
      },
      "outputs": [
        {
          "name": "stdout",
          "output_type": "stream",
          "text": [
            "Clara Pereira\n",
            "2500.0\n",
            "\n",
            "Persona: Clara Pereira\n",
            "Monto: $2500.00\n",
            "\n",
            "\n",
            "Persona: Clara Pereira\n",
            "Monto: $2800.00\n"
          ]
        }
      ],
      "source": [
        "# Crear una instancia de Cliente\n",
        "cliente1 = Cliente(\"Clara Pereira\", 2500.0)\n",
        "\n",
        "# Acceder a los atributos utilizando los getters\n",
        "print(cliente1.get_persona()) \n",
        "print(f'{cliente1.get_monto()}\\n')  \n",
        "\n",
        "# Utilizar el método revelar() para ver la información del cliente\n",
        "cliente1.revelar()\n",
        "print('\\n')\n",
        "# Utilizar los métodos ingresar() y retirar() que modifican el monto que tiene el cliente en su cuenta\n",
        "cliente1.ingresar(500.0)\n",
        "cliente1.retirar(200.0)\n",
        "\n",
        "# Imprimir la información actualizada del cliente\n",
        "cliente1.revelar()\n"
      ]
    }
  ],
  "metadata": {
    "colab": {
      "provenance": []
    },
    "kernelspec": {
      "display_name": "Python 3",
      "name": "python3"
    },
    "language_info": {
      "codemirror_mode": {
        "name": "ipython",
        "version": 3
      },
      "file_extension": ".py",
      "mimetype": "text/x-python",
      "name": "python",
      "nbconvert_exporter": "python",
      "pygments_lexer": "ipython3",
      "version": "3.10.9"
    }
  },
  "nbformat": 4,
  "nbformat_minor": 0
}
