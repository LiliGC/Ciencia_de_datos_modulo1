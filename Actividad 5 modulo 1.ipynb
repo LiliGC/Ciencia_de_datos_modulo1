{
  "cells": [
    {
      "attachments": {},
      "cell_type": "markdown",
      "metadata": {
        "id": "09SIlqMgb4dl"
      },
      "source": [
        "# **Actividad 5:** Codificar un algoritmo manejando las excepciones para tomar acciones sobre los errores de acuerdo al lenguaje Python.\n",
        "\n"
      ]
    },
    {
      "attachments": {},
      "cell_type": "markdown",
      "metadata": {
        "id": "QPXCAsg-cUIl"
      },
      "source": [
        "## 1. Para el siguientes ejemplo, proporcione la(s) excepción(es) adecuada(s):"
      ]
    },
    {
      "cell_type": "code",
      "execution_count": null,
      "metadata": {
        "colab": {
          "base_uri": "https://localhost:8080/",
          "height": 241
        },
        "id": "60IZyvlkbrTe",
        "outputId": "dd49d1e5-cf53-4d88-a1fd-993b7516357b"
      },
      "outputs": [
        {
          "ename": "ZeroDivisionError",
          "evalue": "ignored",
          "output_type": "error",
          "traceback": [
            "\u001b[0;31m---------------------------------------------------------------------------\u001b[0m",
            "\u001b[0;31mZeroDivisionError\u001b[0m                         Traceback (most recent call last)",
            "\u001b[0;32m<ipython-input-17-b599817de4fd>\u001b[0m in \u001b[0;36m<cell line: 3>\u001b[0;34m()\u001b[0m\n\u001b[1;32m      1\u001b[0m \u001b[0ma\u001b[0m \u001b[0;34m=\u001b[0m \u001b[0;36m10\u001b[0m\u001b[0;34m\u001b[0m\u001b[0;34m\u001b[0m\u001b[0m\n\u001b[1;32m      2\u001b[0m \u001b[0mb\u001b[0m \u001b[0;34m=\u001b[0m \u001b[0;36m0\u001b[0m\u001b[0;34m\u001b[0m\u001b[0;34m\u001b[0m\u001b[0m\n\u001b[0;32m----> 3\u001b[0;31m \u001b[0mc\u001b[0m \u001b[0;34m=\u001b[0m \u001b[0ma\u001b[0m \u001b[0;34m/\u001b[0m \u001b[0mb\u001b[0m \u001b[0;31m#Division por cero\u001b[0m\u001b[0;34m\u001b[0m\u001b[0;34m\u001b[0m\u001b[0m\n\u001b[0m\u001b[1;32m      4\u001b[0m \u001b[0mprint\u001b[0m\u001b[0;34m(\u001b[0m\u001b[0;34m\"a/b = %d\"\u001b[0m \u001b[0;34m%\u001b[0m\u001b[0mc\u001b[0m\u001b[0;34m)\u001b[0m\u001b[0;34m\u001b[0m\u001b[0;34m\u001b[0m\u001b[0m\n\u001b[1;32m      5\u001b[0m \u001b[0;34m\u001b[0m\u001b[0m\n",
            "\u001b[0;31mZeroDivisionError\u001b[0m: division by zero"
          ]
        }
      ],
      "source": [
        "a = 10\n",
        "b = 0\n",
        "c = a / b #Division por cero\n",
        "print(\"a/b = %d\" %c)\n",
        "\n"
      ]
    },
    {
      "cell_type": "code",
      "execution_count": 28,
      "metadata": {
        "colab": {
          "base_uri": "https://localhost:8080/"
        },
        "id": "MEE1E-k3fjTf",
        "outputId": "a5da2ecb-c90f-4524-fe62-5720b3a26b45"
      },
      "outputs": [
        {
          "name": "stdout",
          "output_type": "stream",
          "text": [
            "El divisor no puede ser cero\n"
          ]
        }
      ],
      "source": [
        "a = 10\n",
        "b = 0\n",
        "\n",
        "def dividir(dividendo, divisor):\n",
        "    try:\n",
        "        c = a / b\n",
        "        print(\"a/b = %d\" %c)\n",
        "        return c\n",
        "    except ZeroDivisionError:\n",
        "      print(\"El divisor no puede ser cero\")\n",
        "\n",
        "dividir(a, b)"
      ]
    },
    {
      "attachments": {},
      "cell_type": "markdown",
      "metadata": {
        "id": "xq_tN0e3lPbR"
      },
      "source": [
        "## 2. Con el ejercicio anterior, cree un programa que le pida ingresar los valores al usuario."
      ]
    },
    {
      "cell_type": "code",
      "execution_count": 6,
      "metadata": {
        "colab": {
          "base_uri": "https://localhost:8080/"
        },
        "id": "qZLzrv4RNohA",
        "outputId": "228b4bf0-0f8f-43a9-a559-b68ad0439f70"
      },
      "outputs": [
        {
          "name": "stdout",
          "output_type": "stream",
          "text": [
            "Ingrese un número que desea dividir: 5\n",
            "Ingrese un número divisor: 0\n",
            "El divisor no puede ser cero\n",
            "Ingrese un número que desea dividir: 5\n",
            "Ingrese un número divisor: 2\n",
            "5 / 2 = 2.5\n"
          ]
        }
      ],
      "source": [
        "def dividir():\n",
        "   try:\n",
        "       a = int(input('Ingrese un número que desea dividir: ')) # a equivale al número que es dividendo \n",
        "       b = int(input('Ingrese un número divisor: '))  # b equivale al número divisor.\n",
        "       c = a / b     # c es el número resultado de la división \n",
        "   except ValueError:\n",
        "       print(\"Por favor, ingrese solo números enteros\")\n",
        "       dividir() # llamamos de nuevo a la función para que el usuario vuelva a ingresar los números\n",
        "   except ZeroDivisionError:\n",
        "       print(\"El divisor no puede ser cero\")\n",
        "       dividir() # llamamos de nuevo a la función para que el usuario vuelva a ingresar los números\n",
        "   else:\n",
        "       print(f\"{a} / {b} = {c}\") #imprimo la división y su resultado\n",
        "\n",
        "dividir()\n"
      ]
    },
    {
      "attachments": {},
      "cell_type": "markdown",
      "metadata": {
        "id": "8-K-BRWxlUl2"
      },
      "source": [
        "## 3. Cree una función de interés simple, entregando una excepción si la tasa es superior a 100.\n",
        "\n",
        "\n",
        "\n",
        "* El programa debe recibir: monto, año y tasa.\n",
        "* El cálculo de i nt er és será: (monto * año * tasa) / 100\n",
        "* Agregue mensajes adecuados al contexto, para la interacción del\n",
        "programa.\n",
        "\n"
      ]
    },
    {
      "cell_type": "code",
      "execution_count": 24,
      "metadata": {
        "colab": {
          "base_uri": "https://localhost:8080/"
        },
        "id": "9Np2mBVMVgLg",
        "outputId": "200be476-60d9-4acb-8198-f24617a6ff3f"
      },
      "outputs": [
        {
          "name": "stdout",
          "output_type": "stream",
          "text": [
            "Ingrese el monto inicial de inversión: 100000\n",
            "Ingrese el tiempo de inversión en años: a\n",
            "invalid literal for int() with base 10: 'a'\n",
            "\n",
            "Ingrese el monto inicial de inversión: 100000\n",
            "Ingrese el tiempo de inversión en años: 3\n",
            "Ingrese la tasa de interés en porcentaje: 101\n",
            "¡Error! La tasa no puede ser superior a 100.\n",
            "\n",
            "Ingrese el monto inicial de inversión: 100000\n",
            "Ingrese el tiempo de inversión en años: \n",
            "invalid literal for int() with base 10: ''\n",
            "\n",
            "Ingrese el monto inicial de inversión: 100000\n",
            "Ingrese el tiempo de inversión en años: 3\n",
            "Ingrese la tasa de interés en porcentaje: 5\n",
            "\n",
            " El interés generado es: 15000.0 y el monto acumulado en su cuenta es: 115000.0\n"
          ]
        }
      ],
      "source": [
        "def calculo_interes_simple(monto, año, tasa):\n",
        "    if tasa > 100:\n",
        "        raise ValueError(\"¡Error! La tasa no puede ser superior a 100.\")\n",
        "    else:\n",
        "        interes = (monto * año * tasa) / 100\n",
        "        return interes\n",
        "\n",
        "# Le preguntaremos al usuario cual es el monto inicial de inversión a cuantos años y la tasa, y lo ponemos dentro de un while true para que se vuelva a ejecutar si no se cumple las condiciones para calcular el interés\n",
        "while True:\n",
        "    try:\n",
        "        monto = float(input(\"Ingrese el monto inicial de inversión: \")) # Monto inversión\n",
        "        año = int(input(\"Ingrese el tiempo de inversión en años: \")) # Es el tiempo en años\n",
        "        tasa = float(input(\"Ingrese la tasa de interés en porcentaje: \")) #  Es la tasa anual  de interés que aplicaremos\n",
        "        interes = calculo_interes_simple(monto, año, tasa)\n",
        "        print(f'\\n El interés generado es: {interes} y el monto acumulado en su cuenta es: {monto + interes}')\n",
        "        break                                                           # Para que salga del bucle while.\n",
        "    except ValueError as e:                        \n",
        "        print(f'{e}\\n')\n"
      ]
    }
  ],
  "metadata": {
    "colab": {
      "provenance": []
    },
    "kernelspec": {
      "display_name": "Python 3",
      "name": "python3"
    },
    "language_info": {
      "name": "python"
    }
  },
  "nbformat": 4,
  "nbformat_minor": 0
}
