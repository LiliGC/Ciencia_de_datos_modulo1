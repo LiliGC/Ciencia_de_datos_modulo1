{
  "cells": [
    {
      "cell_type": "markdown",
      "metadata": {
        "id": "VT5nrGThR1D0"
      },
      "source": [
        "**Ejercicio Individual AE2 :**\n",
        "Liliana Garmendia"
      ]
    },
    {
      "cell_type": "markdown",
      "metadata": {
        "id": "u9xyFXKQSnYS"
      },
      "source": [
        "1.   Escribir un programa que almacene la cadena ¡Hola Mundo! en una variable y luego muestre por pantalla el contenido de la variable.\n",
        "\n"
      ]
    },
    {
      "cell_type": "code",
      "execution_count": null,
      "metadata": {
        "colab": {
          "base_uri": "https://localhost:8080/"
        },
        "id": "7dqrkNteRxMb",
        "outputId": "f11ac94c-a300-4ab0-fc97-c77263d163b0"
      },
      "outputs": [
        {
          "name": "stdout",
          "output_type": "stream",
          "text": [
            "Hola Mundo\n"
          ]
        }
      ],
      "source": [
        "saludo = \"Hola Mundo\"       # Creación de la variable saludo que almacena el string \"Hola Mundo\"\n",
        "print(saludo)               #  Imprimir la variable saludo"
      ]
    },
    {
      "cell_type": "markdown",
      "metadata": {
        "id": "_N26VKjITD-q"
      },
      "source": [
        "2.   Escribir un programa que pregunte al usuario por el número de horas trabajadas y el pago por hora. Después debe mostrar por pantalla el pago que le corresponde\n",
        "\n"
      ]
    },
    {
      "cell_type": "code",
      "execution_count": null,
      "metadata": {
        "colab": {
          "base_uri": "https://localhost:8080/"
        },
        "id": "mVXpRCgKTO7C",
        "outputId": "d1699f49-1254-4e34-c864-94edea6aeccb"
      },
      "outputs": [
        {
          "name": "stdout",
          "output_type": "stream",
          "text": [
            "Indique numero de horas trabajadas: 30\n",
            "Precio de la hora :15000\n",
            "Le corresponde una remuneración  de 450000 pesos por su trabajo\n"
          ]
        }
      ],
      "source": [
        "horas_trabajadas=int(input(\"Indique numero de horas trabajadas: \")) # Preguntar al usuario número de horas trabajadas por pantalla y luego transformarlo a un dato de tipo int(entero)\n",
        "pago_por_hora=int(input(\"Precio de la hora :\"))                     # Preguntar al usuario el precio por hora y luego transormar a un dato de tipo entero(int)\n",
        "pago_total=horas_trabajadas*pago_por_hora                           # Cálculo del pago total de horas\n",
        "print(f'Le corresponde una remuneración  de {pago_total} pesos por su trabajo')  #Imprime el mensaje de la remuneración recibida pago total."
      ]
    },
    {
      "cell_type": "markdown",
      "metadata": {
        "id": "YdbuIQCeUq8g"
      },
      "source": [
        "3.  Una panadería vende el pan a $1200 cada Kg. El pan que no es el día tiene un descuento del 60%. Escribe un programa que comience leyendo el número de Kilos vendidos que no son del día. Después tu programa debe mostrar el precio habitual del kilo de pan, el descuento que se le hace por no ser fresco y el costo final total.\n",
        "\n"
      ]
    },
    {
      "cell_type": "code",
      "execution_count": 1,
      "metadata": {
        "colab": {
          "base_uri": "https://localhost:8080/"
        },
        "id": "3YS6pzoBU4nm",
        "outputId": "290ffe68-2eab-4547-ff44-efe35c1d2d2f"
      },
      "outputs": [
        {
          "name": "stdout",
          "output_type": "stream",
          "text": [
            "Cuantos kilos de pan que no es fresco vendidos en el dia: \n",
            "20\n",
            "-----------------Detalle boleta----------------------------------------\n",
            "kilos de pan añejo: 20.0\n",
            "precio kilo pan: 1200 * (60% descuento para pan que no es del día)\n",
            "Costo final total es: 20.0 k X $ 480.0 = $ 9600.0 pesos\n"
          ]
        }
      ],
      "source": [
        "kilos_pan_vendidos_no_fresco = float(input(\"Cuantos kilos de pan que no es fresco vendidos en el dia: \\n\"))  # Lectura del número de kilos de pan no fresco\n",
        "\n",
        "precio_kilo_pan = 1200                                                                                       # Precio habitual del kilo de pan\n",
        "descuento=0.6                                                                                                  # Descuento del 60% para el pan no fresco\n",
        "precio_kilo_descuento = precio_kilo_pan * (1-0.6)                                                              # Calcula el costo del kilo de pan no fresco con descuento\n",
        "precio_final_pan_no_fresco = kilos_pan_vendidos_no_fresco*precio_kilo_descuento                                # Calcula el costo total de la compra de pan no fresco\n",
        "                                     \n",
        "print('-----------------Detalle boleta----------------------------------------')\n",
        "print(f'kilos de pan añejo: {kilos_pan_vendidos_no_fresco}')\n",
        "print(f'precio kilo pan: {precio_kilo_pan} * (60% descuento para pan que no es del día)')\n",
        "print(f'Costo final total es: {kilos_pan_vendidos_no_fresco} k X $ {precio_kilo_descuento} = $ {precio_final_pan_no_fresco} pesos')\n"
      ]
    },
    {
      "cell_type": "markdown",
      "metadata": {
        "id": "CsCqeAPwYEPA"
      },
      "source": [
        "\n",
        "\n",
        "4.Dado el sueldo de un trabajador, aplique un aumento del 15% si su sueldo es inferior a $200.000. Imprima el resultado.\n",
        "\n"
      ]
    },
    {
      "cell_type": "code",
      "execution_count": null,
      "metadata": {
        "colab": {
          "base_uri": "https://localhost:8080/"
        },
        "id": "T5ss8_eSXc8G",
        "outputId": "22de654c-0df2-48bc-c519-16884b9fcfe0"
      },
      "outputs": [
        {
          "name": "stdout",
          "output_type": "stream",
          "text": [
            "Cual es su sueldo: 180000\n",
            "Le corresponde un aumento de sueldo de 27000 , su nuevo salario es de 207000:\n"
          ]
        }
      ],
      "source": [
        "sueldo_trabajador=int(input('Cual es su sueldo: '))                                                      #Preguntar al trabajador su sueldo por pantalla\n",
        "\n",
        "def aumento_sueldo(sueldo_trabajador):\n",
        "  if sueldo_trabajador<200000:\n",
        "    aumento=int(sueldo_trabajador*0.15)\n",
        "    sueldo_final=sueldo_trabajador+aumento\n",
        "    print(f'Le corresponde un aumento de sueldo de {aumento} , su nuevo salario es de {sueldo_final}:') \n",
        "  else:\n",
        "   print('No le corresponde aumento de sueldo')\n",
        "\n",
        "aumento_sueldo(sueldo_trabajador)"
      ]
    },
    {
      "cell_type": "markdown",
      "metadata": {
        "id": "aSCYSCuedMyF"
      },
      "source": [
        "5. Se coloca un capital C, a un interés I (que oscila entre 0 y 100), durante M años y se desea saber en cuánto se habrá convertido ese capital en “M” años, sabiendo que es acumulativo."
      ]
    },
    {
      "cell_type": "code",
      "execution_count": null,
      "metadata": {
        "colab": {
          "base_uri": "https://localhost:8080/"
        },
        "id": "iecujOybcI7W",
        "outputId": "7d371172-aa30-4d4e-ad86-159f79145c6e"
      },
      "outputs": [
        {
          "name": "stdout",
          "output_type": "stream",
          "text": [
            "El monto acumulado después de 10 años es: $1628.89\n"
          ]
        }
      ],
      "source": [
        "def calcular_monto_acumulado(capital, interes, anios):\n",
        "    \"\"\"\n",
        "    Calcula el monto acumulado después de 'anios' años con un interés compuesto anual.\n",
        "\n",
        "    Args:\n",
        "        capital (float): El capital inicial.\n",
        "        interes (float): El interés anual en porcentaje (entre 0 y 100).\n",
        "        anios (int): El número de años.\n",
        "\n",
        "    Returns:\n",
        "        float: El monto acumulado después de 'anios' años.\n",
        "    \"\"\"\n",
        "    # Convertir el interés a decimal dividiéndolo por 100\n",
        "    interes_decimal = interes / 100\n",
        "\n",
        "    # Calcular el monto acumulado\n",
        "    monto_acumulado = capital * (1 + interes_decimal) ** anios\n",
        "\n",
        "    return monto_acumulado\n",
        "capital_inicial = 1000  # Capital inicial\n",
        "interes_anual = 5       # Interés anual del 5%\n",
        "anios = 10               # 10 años\n",
        "\n",
        "monto_acumulado = calcular_monto_acumulado(capital_inicial, interes_anual, anios)\n",
        "\n",
        "print(f\"El monto acumulado después de {anios} años es: ${monto_acumulado :.2f}\")\n"
      ]
    },
    {
      "cell_type": "markdown",
      "metadata": {
        "id": "_NKew2nadgem"
      },
      "source": [
        "6. Escriba una función que muestre por pantalla el resultado de multiplicar un número por 10."
      ]
    },
    {
      "cell_type": "code",
      "execution_count": null,
      "metadata": {
        "colab": {
          "base_uri": "https://localhost:8080/"
        },
        "id": "zwcH01SQdld7",
        "outputId": "3f357edd-1c13-4743-c7fd-006a97383f0b"
      },
      "outputs": [
        {
          "name": "stdout",
          "output_type": "stream",
          "text": [
            "Numero que desea multiplicar por 10 : 3\n"
          ]
        },
        {
          "data": {
            "text/plain": [
              "30"
            ]
          },
          "execution_count": 2,
          "metadata": {},
          "output_type": "execute_result"
        }
      ],
      "source": [
        "def multiplicar_por_10():\n",
        "  numero=int(input(\"Numero que desea multiplicar por 10 : \"))          # Pregunta al usuario el número que desea multiplicar\n",
        "  return numero*10                                                     # retorna el resultado de la multiplicación\n",
        "multiplicar_por_10()                                                   # Llamo a la función multiplicar_por_10"
      ]
    },
    {
      "cell_type": "markdown",
      "metadata": {
        "id": "l8FBd7lHdq2M"
      },
      "source": [
        "7. Desarrolle un programa que pida la anchura y altura de un rectángulo y lo dibuje con caracteres producto (*)"
      ]
    },
    {
      "cell_type": "code",
      "execution_count": null,
      "metadata": {
        "colab": {
          "base_uri": "https://localhost:8080/"
        },
        "id": "7V40CsNU4CSe",
        "outputId": "b1f9e7e7-cdbd-4b21-e831-92ca3dbfecfe"
      },
      "outputs": [
        {
          "name": "stdout",
          "output_type": "stream",
          "text": [
            "Introduce la anchura del rectángulo: 3\n",
            "Introduce la altura del rectángulo: 6\n",
            "* * * \n",
            "* * * \n",
            "* * * \n",
            "* * * \n",
            "* * * \n",
            "* * * \n"
          ]
        }
      ],
      "source": [
        "def dibujar_rectangulo(anchura, altura):\n",
        "    \"\"\"Función para dibujar un rectángulo con caracteres '*'.\"\"\"\n",
        "    for i in range(altura):                                               # Por el rango que indique luego el usuario va a imprimir el caracter * y separado de un espacio en la altura y en la anchura realiza lo mismo\n",
        "        for j in range(anchura):                               \n",
        "            print(\"*\", end=\" \")  # Utiliza '*' como caracter de dibujo\n",
        "        print()  # Salto de línea al final de cada fila\n",
        "\n",
        "\n",
        "# Solicitar al usuario la anchura y altura del rectángulo y lo transforma a un dato de tipo entero\n",
        "anchura = int(input(\"Introduce la anchura del rectángulo: \"))\n",
        "altura = int(input(\"Introduce la altura del rectángulo: \"))\n",
        "\n",
        "# Llamar a la función para dibujar el rectángulo\n",
        "dibujar_rectangulo(anchura, altura)\n"
      ]
    },
    {
      "cell_type": "markdown",
      "metadata": {
        "id": "wmRN2lv4dx1j"
      },
      "source": [
        "8. Escribir una función sum() y una función multip() que sumen y multipliquen respectivamente todos los números de una lista. Por ejemplo: sum([1,2,3,4]) debería devolver 10 y multip([1,2,3,4]) debería devolver 24."
      ]
    },
    {
      "cell_type": "code",
      "execution_count": null,
      "metadata": {
        "colab": {
          "base_uri": "https://localhost:8080/"
        },
        "id": "dnS9QZNu4-pG",
        "outputId": "aefab96c-89c6-4079-c7ac-7c196c50d32c"
      },
      "outputs": [
        {
          "name": "stdout",
          "output_type": "stream",
          "text": [
            "La suma de los números en la lista es: 15\n",
            "El resultado de la multiplicación de los números en la lista es: 120\n"
          ]
        }
      ],
      "source": [
        "def suma(lista):\n",
        "    \"\"\"Función que suma todos los números de una lista.\"\"\"\n",
        "    total = 0            # Empezamos con un total de 0 para la suma\n",
        "    for numero in lista:       # Iteramos por cada número de la lista\n",
        "        total += numero        # al total le sumamos el numero de la lista y se repite este proceso con todos los numeros de la lista.\n",
        "    return total               # retorna el total después de haber sumado los números de la lista\n",
        "\n",
        "\n",
        "def multiplicacion(lista):\n",
        "    \"\"\"Función que multiplica todos los números de una lista.\"\"\"\n",
        "    total = 1               # Empezamos con un total de 1 para la multiplicación porque si fuera 0 toda la multiplicación sería 0.\n",
        "    for numero in lista:     # Iteramos por cada número de la lista\n",
        "        total *= numero       # Al total lo multiplicamos por el numero y asi sucesivamente con todos los números de la lista \n",
        "    return total              # Retorna el total después de multiplicar los números de la lista\n",
        "\n",
        "\n",
        "# Ejemplo\n",
        "numeros = [1, 2, 3, 4, 5]   # lista de numeros a la que le aplicaremos la función suma y la función multiplicar.\n",
        "resultado_suma = suma(numeros)  # Creamos una variable con el resultado de la aplicación de la función suma a la lista de numeros\n",
        "resultado_multiplicacion = multiplicacion(numeros) # Creamos una variables con  el resultado de la aplicación de la función multiplicar a la lista de numeros\n",
        "\n",
        "print(f\"La suma de los números en la lista es: {resultado_suma}\")  # Imprimimos el valor de la variable resultado_suma\n",
        "print(f\"El resultado de la multiplicación de los números en la lista es: {resultado_multiplicacion}\") # Imprimimos el valor de la variable resultado_multiplicacion\n"
      ]
    },
    {
      "cell_type": "markdown",
      "metadata": {
        "id": "hB2evaSVd2V0"
      },
      "source": [
        "9. Crear una función que tome una lista de dígitos y devuelva al número al que corresponden. Por ejemplo [1,2,3] corresponde a el número ciento veintitrés (123). (Puede utilizar la función reduce())."
      ]
    },
    {
      "cell_type": "code",
      "execution_count": null,
      "metadata": {
        "colab": {
          "base_uri": "https://localhost:8080/"
        },
        "id": "pX0FRmAKd-4v",
        "outputId": "378ba03a-294b-430d-9515-8a989ea984ae"
      },
      "outputs": [
        {
          "name": "stdout",
          "output_type": "stream",
          "text": [
            "El número correspondiente a la lista de dígitos [1, 2, 3, 4, 5, 6, 7, 8] es: 12345678\n"
          ]
        }
      ],
      "source": [
        "from functools import reduce\n",
        "\n",
        "def convertir_digitos_a_numero(digitos):\n",
        "    \"\"\"Función que convierte una lista de dígitos a un número entero.\"\"\"\n",
        "    numero = reduce(lambda x, y: x * 10 + y, digitos) # Utilizamos la función reduce() para combinar los dígitos en un solo número\n",
        "    return numero\n",
        "# Ejemplo\n",
        "digitos = [1,2,3,4,5,6, 7, 8]      #lista números\n",
        "numero = convertir_digitos_a_numero(digitos) #creamos una variable número donde almacenaremos el número obtenido de la función convertir_digitos_numero a la que le pasamos la lista digitos.\n",
        "print(f\"El número correspondiente a la lista de dígitos {digitos} es: {numero}\") #Imprimimos la lista de digitos y el numero obtenido al aplicar la función. \n"
      ]
    }
  ],
  "metadata": {
    "colab": {
      "provenance": []
    },
    "kernelspec": {
      "display_name": "Python 3",
      "name": "python3"
    },
    "language_info": {
      "name": "python",
      "version": "3.10.9"
    }
  },
  "nbformat": 4,
  "nbformat_minor": 0
}
