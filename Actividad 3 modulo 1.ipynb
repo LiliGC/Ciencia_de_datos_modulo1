{
  "cells": [
    {
      "attachments": {},
      "cell_type": "markdown",
      "metadata": {
        "id": "5WYvJoXlNCyw"
      },
      "source": [
        "# **Actividad 3: Codificar programas utilizando estructura de datos del lenguaje Python para resolver un problema.**\n"
      ]
    },
    {
      "attachments": {},
      "cell_type": "markdown",
      "metadata": {
        "id": "YvILJUXyNJFI"
      },
      "source": [
        "## 1. Dada la lista L = [\"almacenar\", 8, \"a\", [1,2,3], True, (0,0,1), 85.7]\n",
        "\n",
        "\n",
        "\n",
        "a.   ¿Cuál de estos elementos pertenece a ella?\n",
        "\n",
        "           |85.7 |True  | [(0,0,1)] | [1,2,3]|\n",
        "           ----------------------------------\n",
        "           |0    |[True]| 85       |  \"a\"   |\n",
        "\n",
        "b.   ¿Cómo obtener la posición en que se encuentra el elemento (0,0,1)?\n",
        "\n",
        "c.   ¿Cómo eliminar el último elemento, independientemente de cuántos elementos haya en la lista?\n",
        "\n",
        "d. Utilizar una operación para contar cuántas veces aparece el string “a”. ¿Cuál será el resultado?\n",
        "\n"
      ]
    },
    {
      "cell_type": "code",
      "execution_count": null,
      "metadata": {
        "colab": {
          "base_uri": "https://localhost:8080/"
        },
        "id": "bEGjWqw2NIa1",
        "outputId": "c5301ecc-95dd-40be-be41-790c85148ffd"
      },
      "outputs": [
        {
          "name": "stdout",
          "output_type": "stream",
          "text": [
            "a. Elementos pertenecen a la lista: 85,7 : True; True:  True; [(0, 0, 1)]: False; [1, 2, 3]: True; 0: False; [True]: False; 85: False; \"a\": True\n",
            "\n",
            "a. version 2: Los siguientes elementos son comunes en ambas listas:\n",
            "\n",
            "a\n",
            "[1, 2, 3]\n",
            "True\n",
            "85.7\n",
            "b. La posición del elemento (0,0,1) en la lista L es : 5\n",
            "\n",
            "c. El último elemento de la lista 85.7 será eliminado, la lista actualizada es ['almacenar', 8, 'a', [1, 2, 3], True, (0, 0, 1)] \n",
            "\n",
            "d. El elemento \"a\" está 1 vez en la lista L\n"
          ]
        }
      ],
      "source": [
        "L = [\"almacenar\", 8, \"a\", [1,2,3], True, (0,0,1), 85.7] #Lista L\n",
        "\n",
        "#Comprobar si esta en la lista, si da True se encuentra en la lista L si da False no.\n",
        "print(f'a. Elementos pertenecen a la lista: 85,7 : {85.7 in L}; True:  {True in L}; [(0, 0, 1)]: {[(0, 0, 1)] in L}; [1, 2, 3]: {[1, 2, 3] in L}; 0: {0  in L}; [True]: {[True] in L}; 85: {85 in L}; \"a\": {\"a\" in L}\\n') \n",
        "\n",
        "# Otra manera de comprobar si esta en  la lista es crear otra para almacenar los elementos y luego otra para almacenar los comunes.\n",
        "\n",
        "L2 = [85.7, True, [(0, 0, 1)], [1, 2, 3], 0, [True], 85, \"a\"]\n",
        "\n",
        "# Creamos una lista vacía para almacenar los elementos comunes\n",
        "comunes = []\n",
        "\n",
        "# Recorremos lista1 y comparamos cada elemento con los de lista2\n",
        "for elemento in L:\n",
        "    if elemento in L2:\n",
        "        comunes.append(elemento)\n",
        "\n",
        "# Mostramos los elementos comunes en la lista\n",
        "if comunes:\n",
        "    print(\"a. version 2: Los siguientes elementos son comunes en ambas listas:\\n\")\n",
        "    for elemento in comunes:\n",
        "        print(elemento)\n",
        "else:\n",
        "    print(\"No hay elementos comunes en ambas listas.\")\n",
        "\n",
        "# b Obtener la posición del elemento  (0, 0, 1) en la lista L\n",
        "print(f'b. La posición del elemento (0,0,1) en la lista L es : { L.index((0,0,1))}\\n') \n",
        "\n",
        "# c Para eliminar el último elemento en una lista utilizo el índice negativo -1 e Imprimo la lista para comprobar que se eliminó el último elemento.\n",
        "print(f'c. El último elemento de la lista {L.pop(-1)} será eliminado, la lista actualizada es {L} \\n') \n",
        "\n",
        "# d Utilizo count para contar la cantidad de veces que aparece el elemento en la lista\n",
        "print(f'd. El elemento \"a\" está {L.count(\"a\")} vez en la lista L') "
      ]
    },
    {
      "attachments": {},
      "cell_type": "markdown",
      "metadata": {
        "id": "8PkE6VHOdEXL"
      },
      "source": [
        "## 2. Escribir un programa que pida al usuario una palabra y muestre por pantalla si es un palíndromo\n",
        "\n"
      ]
    },
    {
      "cell_type": "code",
      "execution_count": null,
      "metadata": {
        "colab": {
          "base_uri": "https://localhost:8080/"
        },
        "id": "d-x3AcG4M4Hv",
        "outputId": "cba595ad-8102-4092-8b63-4175fac19fcc"
      },
      "outputs": [
        {
          "name": "stdout",
          "output_type": "stream",
          "text": [
            "Ingresa una palabra: hola\n",
            "La palabra hola no es un palíndromo\n"
          ]
        }
      ],
      "source": [
        "# Solicitar al usuario una palabra\n",
        "palabra = input(\"Ingresa una palabra: \")\n",
        "''' Algunas palabras de ejemplo para probar el programa y que son palindromos\n",
        "    \"radar\"\n",
        "    \"reconocer\"\n",
        "    \"somos\"\n",
        "    \"deed\"\n",
        "    \"ana\"\n",
        "    \"nivel\"\n",
        "    \"reconocer\"\n",
        "    \"luz azul\"\n",
        "    \"Anita lava la tina\"\n",
        "    \"No deseo ese don\"'''\n",
        "# Convertir la palabra a minúsculas y eliminar los espacios en blanco\n",
        "palabra = palabra.lower().replace(\" \", \"\")\n",
        "\n",
        "# Verificar si la palabra es un palíndromo(es una palabra que se lee igual de atrás para adelante)\n",
        "es_palindromo = palabra == palabra[::-1]\n",
        "\n",
        "# Mostrar el resultado\n",
        "if es_palindromo:\n",
        "    print(f'¡La palabra {palabra} es un palíndromo')\n",
        "else:\n",
        "    print(f'La palabra {palabra} no es un palíndromo')\n"
      ]
    },
    {
      "attachments": {},
      "cell_type": "markdown",
      "metadata": {
        "id": "CciIni6odMXE"
      },
      "source": [
        "## 3. Escribir un programa que almacene en una lista los números del 1 al 10\n",
        "y los muestre por pantalla en orden inverso separados por comas."
      ]
    },
    {
      "cell_type": "code",
      "execution_count": null,
      "metadata": {
        "colab": {
          "base_uri": "https://localhost:8080/"
        },
        "id": "FWXMx6K7hbzP",
        "outputId": "10b71e16-8681-4ed1-eb74-025ec4f83b3f"
      },
      "outputs": [
        {
          "name": "stdout",
          "output_type": "stream",
          "text": [
            "10, 9, 8, 7, 6, 5, 4, 3, 2, 1\n"
          ]
        }
      ],
      "source": [
        "# Crear una lista con los números del 1 al 10 aqui se usa range porque me crea la lista considerando el primer y el último elemento -1 por eso es de 1, 11.\n",
        "numeros = list(range(1, 11))\n",
        "\n",
        "# Mostrar los números en orden inverso, separados por comas\n",
        "numeros_inverso = ', '.join(map(str, reversed(numeros)))\n",
        "print(numeros_inverso)\n"
      ]
    },
    {
      "attachments": {},
      "cell_type": "markdown",
      "metadata": {
        "id": "u1IM_12JdP5V"
      },
      "source": [
        "## 4. Escribir un programa que almacene las asignaturas de un curso \n",
        "(por ejemplo Matemáticas, Física, Química, Historia y Lengua) en una lista,\n",
        "pregunte al usuario la nota que ha sacado en cada asignatura, y después\n",
        "las muestre por pantalla con el mensaje En asignatura has sacado\n",
        "nota donde asignatura es cada una de las asignaturas de la lista\n",
        "y nota cada una de las correspondientes notas introducidas por el usuario."
      ]
    },
    {
      "cell_type": "code",
      "execution_count": null,
      "metadata": {
        "colab": {
          "base_uri": "https://localhost:8080/"
        },
        "id": "fJurpU5fdUhq",
        "outputId": "0d26a5f8-6292-4328-efe0-17ab7517237b"
      },
      "outputs": [
        {
          "name": "stdout",
          "output_type": "stream",
          "text": [
            "Ingresa la nota de Matemáticas: 65\n",
            "Ingresa la nota de Física: 67\n",
            "Ingresa la nota de Química: 68\n",
            "Ingresa la nota de Historia: 70\n",
            "Ingresa la nota de Lengua: 69\n",
            "\n",
            " En Matemáticas has sacado nota: 65\n",
            "\n",
            " En Física has sacado nota: 67\n",
            "\n",
            " En Química has sacado nota: 68\n",
            "\n",
            " En Historia has sacado nota: 70\n",
            "\n",
            " En Lengua has sacado nota: 69\n"
          ]
        }
      ],
      "source": [
        "# En la variable asignaturas almacenamos la lista con las asignaturas.\n",
        "asignaturas = ['Matemáticas', 'Física', 'Química', 'Historia', 'Lengua']\n",
        "\n",
        "# Creamos un diccionario para almacenar las notas que ha sacado el usuario en cada asignatura\n",
        "notas = {}\n",
        "\n",
        "# Solicitamos al usuario la nota de cada asignatura\n",
        "for asignatura in asignaturas:                                      #  Iteramos en la lista para que le aparezca cada asignatura al usuario y el ingrese la nota.\n",
        "    nota = input(f\"Ingresa la nota de {asignatura}: \")      \n",
        "    notas[asignatura] = nota                                       # Almacenamos cada nota segun asignatura en el diccionario notas, aquí podría haber modificado para que aceptara solo int o tipo float. O usar try o except por si se equivocaba\n",
        "\n",
        "# Mostramos por pantalla las notas ingresadas por el usuario\n",
        "for asignatura, nota in notas.items():                              # Iteramos en el diccionario e imprimimos el par (asignatura, nota)\n",
        "    print(f\"\\n En {asignatura} has sacado nota: {nota}\")\n"
      ]
    },
    {
      "attachments": {},
      "cell_type": "markdown",
      "metadata": {
        "id": "ZvUJIGkEl6Cq"
      },
      "source": [
        "## 5. Escribir un programa que almacene las matrices en una lista y muestre por pantalla su producto\n",
        "\n",
        "$$ A =\n",
        "\\left(\\begin{array}{cc} \n",
        "1 & 2 & 3 \\\\\n",
        "4 & 5 & 6\n",
        "\\end{array}\\right)\n",
        "B = \n",
        "\\left(\\begin{array}{cc} \n",
        "-1 & 0\\\\ \n",
        "0 & 1\\\\\n",
        "1 & 1\n",
        "\\end{array}\\right)\n",
        "$$ \n",
        "\n",
        "*Nota: Para representar matrices mediante listas usar listas anidadas, representando cada vector fila en una lista.*"
      ]
    },
    {
      "cell_type": "code",
      "execution_count": null,
      "metadata": {
        "colab": {
          "base_uri": "https://localhost:8080/"
        },
        "id": "Pr17tDBloGIA",
        "outputId": "0763d942-f26f-40e3-89d6-ed699dabeb56"
      },
      "outputs": [
        {
          "name": "stdout",
          "output_type": "stream",
          "text": [
            "El producto de las matrices A y B es:\n",
            "[2, 5]\n",
            "[2, 11]\n"
          ]
        }
      ],
      "source": [
        "# Definimos las matrices A y B como listas anidadas\n",
        "A = [[1, 2, 3], \n",
        "     [4, 5, 6]]\n",
        "B = [[-1, 0],\n",
        "     [0, 1],\n",
        "     [1, 1]]\n",
        "\n",
        "# Obtenemos el número de filas y columnas de las matrices\n",
        "filas_A = len(A)\n",
        "columnas_A = len(A[0])\n",
        "filas_B = len(B)\n",
        "columnas_B = len(B[0])\n",
        "\n",
        "# Verificamos si las matrices se pueden multiplicar\n",
        "if columnas_A == filas_B:\n",
        "    # Creamos una matriz vacía para almacenar el producto\n",
        "    producto = [[0 for _ in range(columnas_B)] for _ in range(filas_A)]\n",
        "    \n",
        "    # Realizamos la multiplicación de matrices\n",
        "    for i in range(filas_A):\n",
        "        for j in range(columnas_B):\n",
        "            for k in range(columnas_A):\n",
        "                producto[i][j] += A[i][k] * B[k][j]\n",
        "    \n",
        "    # Mostramos el producto de las matrices por pantalla\n",
        "    print(\"El producto de las matrices A y B es:\")\n",
        "    for fila in producto:\n",
        "        print(fila)\n",
        "else:\n",
        "    print(\"No se pueden multiplicar las matrices. El número de columnas de A debe ser igual al número de filas de B.\")\n"
      ]
    },
    {
      "attachments": {},
      "cell_type": "markdown",
      "metadata": {
        "id": "iIpF40rzoHvx"
      },
      "source": [
        "## 6. Escribir un programa que guarde en una variable el diccionario {'Euro':'€', 'Dollar':'$', 'Yen':'¥'}, pregunte al usuario por una divisa y muestre su símbolo o un mensaje de aviso si la divisa no está en el diccionario."
      ]
    },
    {
      "cell_type": "code",
      "execution_count": null,
      "metadata": {
        "colab": {
          "base_uri": "https://localhost:8080/"
        },
        "id": "WdD2k2wPoLqr",
        "outputId": "c76fcc38-71b4-41a0-90fe-31315e10c468"
      },
      "outputs": [
        {
          "name": "stdout",
          "output_type": "stream",
          "text": [
            "Ingresa una divisa en inglés: euro\n",
            "El símbolo de la divisa Euro es: €\n"
          ]
        }
      ],
      "source": [
        "# Definimos el diccionario con las divisas y sus símbolos\n",
        "divisas = {'Euro':'€', 'Dollar':'$', 'Yen':'¥'}\n",
        "\n",
        "# Solicitamos al usuario que ingrese una divisa y la pasamos a title por si lo escribieron en minúsculas\n",
        "divisa = (input(\"Ingresa una divisa en inglés: \")).title()\n",
        "\n",
        "# Verificamos si la divisa está en el diccionario, si coincide con las keys que fue como lo almacene en el diccionario\n",
        "if divisa in divisas.keys():\n",
        "    # Si la divisa está en el diccionario, mostramos su símbolo\n",
        "    print(f\"El símbolo de la divisa {divisa} es: {divisas[divisa]}\")\n",
        "else:\n",
        "    # Si la divisa no está en el diccionario, mostramos un mensaje de aviso\n",
        "    print(f\"La divisa {divisa} no está en el diccionario.\")\n"
      ]
    },
    {
      "attachments": {},
      "cell_type": "markdown",
      "metadata": {
        "id": "6MaL1HFAoMJZ"
      },
      "source": [
        "## 7. Escribir un programa que pregunte una fecha en formato dd/mm/aaaa y muestre por pantalla la misma fecha en formato dd de <mes> de aaaa donde <mes> es el nombre del mes."
      ]
    },
    {
      "cell_type": "code",
      "execution_count": null,
      "metadata": {
        "colab": {
          "base_uri": "https://localhost:8080/"
        },
        "id": "9-e6qQ5doSAJ",
        "outputId": "9de065ec-8271-4aff-9acf-04b86f8fc62d"
      },
      "outputs": [
        {
          "name": "stdout",
          "output_type": "stream",
          "text": [
            "Ingrese una fecha en formato dd/mm/aaaa: 14/04/2023\n",
            "14 de april de 2023\n"
          ]
        }
      ],
      "source": [
        "from datetime import datetime\n",
        "\n",
        "# Obtener fecha del usuario en formato dd/mm/aaaa\n",
        "fecha = input(\"Ingrese una fecha en formato dd/mm/aaaa: \")\n",
        "\n",
        "# Convertir la fecha en un objeto de tipo datetime\n",
        "try:\n",
        "    fecha_dt = datetime.strptime(fecha, \"%d/%m/%Y\")\n",
        "    \n",
        "    # Obtener el nombre del mes a partir del objeto datetime\n",
        "    nombre_mes = fecha_dt.strftime(\"%B\").lower()  # Utilizamos \"%B\" para obtener el nombre completo del mes en minúsculas\n",
        "    \n",
        "    # Obtener el día y año de la fecha\n",
        "    dia = fecha_dt.strftime(\"%d\")\n",
        "    anio = fecha_dt.strftime(\"%Y\")\n",
        "    \n",
        "    # Imprimir la fecha en el formato requerido\n",
        "    print(f\"{dia} de {nombre_mes} de {anio}\")\n",
        "    \n",
        "except ValueError:\n",
        "    print(\"La fecha ingresada no tiene el formato correcto. Por favor, ingrese una fecha válida en formato dd/mm/aaaa.\")"
      ]
    }
  ],
  "metadata": {
    "colab": {
      "provenance": []
    },
    "kernelspec": {
      "display_name": "Python 3",
      "name": "python3"
    },
    "language_info": {
      "name": "python"
    }
  },
  "nbformat": 4,
  "nbformat_minor": 0
}
