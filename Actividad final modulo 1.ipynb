{
  "cells": [
    {
      "attachments": {},
      "cell_type": "markdown",
      "metadata": {
        "id": "6-eNHzt-tKyS"
      },
      "source": [
        "# **Modulo 1 final**\n",
        "\n",
        "\n",
        "Realizar una función teclanum(canción) que permita recibir una canción en cifrado americano mediante una cadena de caracteres y la transforme en un arreglo que represente el número de la tecla a ser usada en secuencia. Considere un arreglo de letras y símbolos ordenados por posición(+1) a la tecla anterior."
      ]
    },
    {
      "cell_type": "code",
      "execution_count": null,
      "metadata": {
        "id": "PNxZwkOB1OsR"
      },
      "outputs": [],
      "source": [
        "def teclanum(cancion):\n",
        "    # Diccionario que mapea cada letra a su número de teclas en el cifrado americano\n",
        "    cifrado_americano = {\n",
        "        'C' : '1','C#' : '2', 'D': '3',\n",
        "        'D#': '4', 'E' : '5', 'F': '6',\n",
        "        'F#': '7', 'G' : '8', 'G#': '9', \n",
        "        'A' : '10','A#': '11', 'B': '12',\n",
        "    }\n",
        "\n",
        "    # Convertir la canción a mayúsculas y eliminar espacios en blanco\n",
        "    cancion = cancion.upper().replace(\" \", \"\")\n",
        "\n",
        "    # Crear una lista vacía para almacenar los números de teclas\n",
        "    teclas = []\n",
        "\n",
        "    # Iterar a través de cada letra en la canción y obtener su número de teclas del diccionario\n",
        "    for letra in cancion:\n",
        "        if letra in cifrado_americano:\n",
        "            teclas.append(cifrado_americano[letra])\n",
        "        else:\n",
        "            # Si la letra no está en el cifrado americano, mostrar un mensaje de error y saltar la letra\n",
        "            print(f\"Error: La letra '{letra}' no está en el cifrado americano.\")\n",
        "    \n",
        "    # Devolver el arreglo de números de teclas\n",
        "    return teclas\n"
      ]
    },
    {
      "cell_type": "code",
      "execution_count": null,
      "metadata": {
        "colab": {
          "base_uri": "https://localhost:8080/"
        },
        "id": "WbUDOPRY1Bl2",
        "outputId": "227bd58b-116c-4f44-9258-6d09988a9a14"
      },
      "outputs": [
        {
          "data": {
            "text/plain": [
              "['5', '6', '8', '8', '6', '5', '3', '1', '1', '3', '5', '5', '3']"
            ]
          },
          "execution_count": 29,
          "metadata": {},
          "output_type": "execute_result"
        }
      ],
      "source": [
        "#Ejemplos\n",
        "\n",
        "cancion = 'EFGGFEDCCDEED'\n",
        "teclanum(cancion)"
      ]
    },
    {
      "cell_type": "code",
      "execution_count": null,
      "metadata": {
        "colab": {
          "base_uri": "https://localhost:8080/"
        },
        "id": "2_dMgTSg0L0S",
        "outputId": "27047c37-6f30-4ff8-aa25-0d8f94a48143"
      },
      "outputs": [
        {
          "data": {
            "text/plain": [
              "['5', '6', '8', '8', '6', '5', '3', '1', '1', '3', '5', '5', '3']"
            ]
          },
          "execution_count": 4,
          "metadata": {},
          "output_type": "execute_result"
        }
      ],
      "source": [
        "cancion2 = 'efggfedccdeeD'\n",
        "teclanum(cancion2)"
      ]
    },
    {
      "cell_type": "code",
      "execution_count": null,
      "metadata": {
        "colab": {
          "base_uri": "https://localhost:8080/"
        },
        "id": "oiu1h9oR0cg5",
        "outputId": "ed697e48-f0fe-4f2e-9f45-8b9775823d8d"
      },
      "outputs": [
        {
          "name": "stdout",
          "output_type": "stream",
          "text": [
            "Error: La letra 'H' no está en el cifrado americano.\n",
            "Error: La letra 'O' no está en el cifrado americano.\n",
            "Error: La letra 'L' no está en el cifrado americano.\n"
          ]
        },
        {
          "data": {
            "text/plain": [
              "['10']"
            ]
          },
          "execution_count": 3,
          "metadata": {},
          "output_type": "execute_result"
        }
      ],
      "source": [
        "cancion3 = 'hola'\n",
        "teclanum(cancion3)"
      ]
    },
    {
      "cell_type": "code",
      "execution_count": null,
      "metadata": {
        "colab": {
          "base_uri": "https://localhost:8080/"
        },
        "id": "Kgzxx8Iq0z5Q",
        "outputId": "5695898f-b8b0-4c98-f5c9-d295988f7e90"
      },
      "outputs": [
        {
          "name": "stdout",
          "output_type": "stream",
          "text": [
            "Error: La letra '#' no está en el cifrado americano.\n"
          ]
        },
        {
          "data": {
            "text/plain": [
              "['10', '5', '5', '10', '3', '1']"
            ]
          },
          "execution_count": 7,
          "metadata": {},
          "output_type": "execute_result"
        }
      ],
      "source": [
        "cancion4 = 'A#EEADC'\n",
        "teclanum(cancion4)"
      ]
    },
    {
      "attachments": {},
      "cell_type": "markdown",
      "metadata": {
        "id": "v9nvRsFD3qwg"
      },
      "source": [
        "Así que esta es la **versión final**. Como la anterior función no me estaba tomando las notas sostenidas tuve que realizarle unas modificaciones. "
      ]
    },
    {
      "cell_type": "code",
      "execution_count": null,
      "metadata": {
        "id": "LvRTPKG580YS"
      },
      "outputs": [],
      "source": [
        "def teclanum(cancion):\n",
        "    # Diccionario que mapea cada letra (natural o con #) a su número de teclas en el cifrado americano\n",
        "    cifrado_americano = {\n",
        "        'C' : '1', 'C#' : '2', 'D': '3', 'D#': '4', 'E' : '5', 'F': '6',\n",
        "        'F#': '7', 'G' : '8', 'G#': '9', 'A' : '10','A#': '11', 'B': '12',\n",
        "    }\n",
        "\n",
        "    # Convertir la canción a mayúsculas y eliminar espacios en blanco\n",
        "    cancion = cancion.upper().replace(\" \", \"\")\n",
        "\n",
        "    # Crear una lista vacía para almacenar los números de teclas\n",
        "    teclas = []\n",
        "\n",
        "    # Iterar a través de cada letra en la canción y obtener su número de teclas del diccionario\n",
        "    i = 0\n",
        "    while i < len(cancion):\n",
        "        # Verificar si la letra actual es una nota con #\n",
        "        if i + 1 < len(cancion) and cancion[i+1] == '#':\n",
        "            # Obtener el número de tecla correspondiente a la nota con #\n",
        "            nota = cancion[i:i+2]\n",
        "            if nota in cifrado_americano:\n",
        "                teclas.append(cifrado_americano[nota])\n",
        "            else:\n",
        "                print(f\"Error: La nota '{nota}' no está en el cifrado americano.\")\n",
        "            i += 2  # avanzar dos posiciones en la cadena\n",
        "        else:\n",
        "            # Obtener el número de tecla correspondiente a la nota natural\n",
        "            nota = cancion[i]\n",
        "            if nota in cifrado_americano:\n",
        "                teclas.append(cifrado_americano[nota])\n",
        "            else:\n",
        "                print(f\"Error: La nota '{nota}' no está en el cifrado americano.\")\n",
        "            i += 1  # avanzar una posición en la cadena\n",
        "    \n",
        "    # Devolver el arreglo de números de teclas\n",
        "    return teclas\n"
      ]
    },
    {
      "cell_type": "code",
      "execution_count": null,
      "metadata": {
        "colab": {
          "base_uri": "https://localhost:8080/"
        },
        "id": "FdSSsoxe4B7r",
        "outputId": "8137eb16-6042-4714-b96e-caedd9e1c412"
      },
      "outputs": [
        {
          "data": {
            "text/plain": [
              "['5', '6', '8', '8', '6', '5', '3', '1', '1', '3', '5', '5', '3']"
            ]
          },
          "execution_count": 22,
          "metadata": {},
          "output_type": "execute_result"
        }
      ],
      "source": [
        "# Ejemplos\n",
        "cancion = 'EFGGFEDCCDEED'\n",
        "teclanum(cancion)\n"
      ]
    },
    {
      "cell_type": "code",
      "execution_count": null,
      "metadata": {
        "colab": {
          "base_uri": "https://localhost:8080/"
        },
        "id": "YVm5eynb45RK",
        "outputId": "d691710b-a563-48f9-86c6-8d00624d1760"
      },
      "outputs": [
        {
          "data": {
            "text/plain": [
              "['1',\n",
              " '1',\n",
              " '8',\n",
              " '8',\n",
              " '10',\n",
              " '10',\n",
              " '8',\n",
              " '6',\n",
              " '6',\n",
              " '5',\n",
              " '5',\n",
              " '3',\n",
              " '3',\n",
              " '1',\n",
              " '8',\n",
              " '8',\n",
              " '6',\n",
              " '6',\n",
              " '5',\n",
              " '5',\n",
              " '3',\n",
              " '8',\n",
              " '8']"
            ]
          },
          "execution_count": 23,
          "metadata": {},
          "output_type": "execute_result"
        }
      ],
      "source": [
        "cancion2 = 'CCGGAAGFFEEDDCGGFFEEDGG'\n",
        "teclanum(cancion2)\n"
      ]
    },
    {
      "cell_type": "code",
      "execution_count": null,
      "metadata": {
        "colab": {
          "base_uri": "https://localhost:8080/"
        },
        "id": "P_BE07Si5fk1",
        "outputId": "fb48ee0c-6c2b-43c7-a8c4-4122c51a3f70"
      },
      "outputs": [
        {
          "data": {
            "text/plain": [
              "['8',\n",
              " '9',\n",
              " '8',\n",
              " '6',\n",
              " '5',\n",
              " '3',\n",
              " '2',\n",
              " '8',\n",
              " '9',\n",
              " '8',\n",
              " '6',\n",
              " '5',\n",
              " '3',\n",
              " '2',\n",
              " '10',\n",
              " '12',\n",
              " '10',\n",
              " '8',\n",
              " '9',\n",
              " '8',\n",
              " '6',\n",
              " '5',\n",
              " '3',\n",
              " '2']"
            ]
          },
          "execution_count": 29,
          "metadata": {},
          "output_type": "execute_result"
        }
      ],
      "source": [
        "# Pruebo una canción que tiene notas sostenidas y no sostenidas y vemos que G lo tomo como 8 y G# como 9 le está sumando 1 para la nota sostenida.\n",
        "cancion3 = 'GG#GFEDC#GG#GFEDC#ABAGG#GFEDC#'\n",
        "teclanum(cancion3)"
      ]
    },
    {
      "cell_type": "code",
      "execution_count": null,
      "metadata": {
        "colab": {
          "base_uri": "https://localhost:8080/"
        },
        "id": "sDmgUVd69W7K",
        "outputId": "17442211-0bc1-4f2e-daf9-14002ea01192"
      },
      "outputs": [
        {
          "data": {
            "text/plain": [
              "['2',\n",
              " '9',\n",
              " '11',\n",
              " '7',\n",
              " '2',\n",
              " '9',\n",
              " '11',\n",
              " '7',\n",
              " '2',\n",
              " '9',\n",
              " '11',\n",
              " '7',\n",
              " '2',\n",
              " '9',\n",
              " '11',\n",
              " '7',\n",
              " '2',\n",
              " '9',\n",
              " '11',\n",
              " '7',\n",
              " '2',\n",
              " '9',\n",
              " '11',\n",
              " '7',\n",
              " '2',\n",
              " '9',\n",
              " '11',\n",
              " '7',\n",
              " '2',\n",
              " '9',\n",
              " '11',\n",
              " '7',\n",
              " '2',\n",
              " '9',\n",
              " '11',\n",
              " '7',\n",
              " '2',\n",
              " '9',\n",
              " '11',\n",
              " '7',\n",
              " '2',\n",
              " '9',\n",
              " '11',\n",
              " '7',\n",
              " '2',\n",
              " '9',\n",
              " '11',\n",
              " '7',\n",
              " '2',\n",
              " '9',\n",
              " '11',\n",
              " '7',\n",
              " '2',\n",
              " '9',\n",
              " '11',\n",
              " '7',\n",
              " '2',\n",
              " '9',\n",
              " '11',\n",
              " '7']"
            ]
          },
          "execution_count": 25,
          "metadata": {},
          "output_type": "execute_result"
        }
      ],
      "source": [
        "# Realizo una prueba con solo notas sostenidas para ver si funciona.\n",
        "cancion4 = \"C# G# A# F# C# G# A# F# C# G# A# F# C# G# A# F# C# G# A# F# C# G# A# F# C# G# A# F# C# G# A# F# C# G# A# F# C# G# A# F# C# G# A# F# C# G# A# F# C# G# A# F# C# G# A# F# C# G# A# F#\"\n",
        "teclanum(cancion4)\n"
      ]
    },
    {
      "cell_type": "code",
      "execution_count": null,
      "metadata": {
        "colab": {
          "base_uri": "https://localhost:8080/"
        },
        "id": "WjXEmQmB9yxR",
        "outputId": "dd88db05-9eed-45c0-a4c2-8777b33df9b2"
      },
      "outputs": [
        {
          "data": {
            "text/plain": [
              "['6',\n",
              " '5',\n",
              " '3',\n",
              " '4',\n",
              " '3',\n",
              " '1',\n",
              " '2',\n",
              " '6',\n",
              " '5',\n",
              " '3',\n",
              " '4',\n",
              " '3',\n",
              " '1',\n",
              " '2',\n",
              " '6',\n",
              " '5',\n",
              " '6',\n",
              " '8',\n",
              " '8',\n",
              " '6',\n",
              " '5',\n",
              " '3',\n",
              " '4',\n",
              " '3',\n",
              " '1',\n",
              " '2',\n",
              " '6',\n",
              " '5',\n",
              " '3',\n",
              " '4',\n",
              " '3',\n",
              " '1',\n",
              " '2',\n",
              " '6',\n",
              " '5',\n",
              " '6',\n",
              " '8',\n",
              " '8',\n",
              " '6',\n",
              " '5',\n",
              " '3',\n",
              " '4',\n",
              " '3',\n",
              " '1',\n",
              " '2',\n",
              " '6',\n",
              " '5']"
            ]
          },
          "execution_count": 28,
          "metadata": {},
          "output_type": "execute_result"
        }
      ],
      "source": [
        "# Ejemplo canción \"Yesterday\" de The Beatles\n",
        "\n",
        "cancion5 = \"FEDD#DCC#FEDD#DCC#FEFGGFEDD#DCC#FEDD#DCC#FEFGGFEDD#DCC#FE\"\n",
        "teclanum(cancion5)"
      ]
    },
    {
      "cell_type": "code",
      "execution_count": null,
      "metadata": {
        "colab": {
          "base_uri": "https://localhost:8080/"
        },
        "id": "dMe0FtDJ_wmA",
        "outputId": "e860f3d9-d523-4237-adfb-ec909be99117"
      },
      "outputs": [
        {
          "name": "stdout",
          "output_type": "stream",
          "text": [
            "Error: La nota 'H' no está en el cifrado americano.\n",
            "Error: La nota 'O' no está en el cifrado americano.\n",
            "Error: La nota 'L' no está en el cifrado americano.\n"
          ]
        },
        {
          "data": {
            "text/plain": [
              "['10']"
            ]
          },
          "execution_count": 30,
          "metadata": {},
          "output_type": "execute_result"
        }
      ],
      "source": [
        "# Probando una canción que no esta en cifrado americano\n",
        "\n",
        "cancion7 = 'Hola'\n",
        "teclanum(cancion7)"
      ]
    }
  ],
  "metadata": {
    "colab": {
      "provenance": []
    },
    "kernelspec": {
      "display_name": "Python 3",
      "name": "python3"
    },
    "language_info": {
      "name": "python"
    }
  },
  "nbformat": 4,
  "nbformat_minor": 0
}
